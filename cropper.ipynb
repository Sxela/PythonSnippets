{
 "cells": [
  {
   "cell_type": "markdown",
   "id": "98796360",
   "metadata": {},
   "source": [
    "A simple script that:\n",
    "- takes an image\n",
    "- upscales it by *ratio*\n",
    "- splits back into *ratio by ratio* number of images\n",
    "- *overshoots* an amount of extra pixels on each side for easy blending adjacent images back together"
   ]
  },
  {
   "cell_type": "code",
   "execution_count": 1,
   "id": "4a39b86c",
   "metadata": {
    "ExecuteTime": {
     "end_time": "2022-04-09T08:54:05.927144Z",
     "start_time": "2022-04-09T08:54:05.873008Z"
    }
   },
   "outputs": [],
   "source": [
    "import PIL.Image\n",
    "import numpy as np\n",
    "\n",
    "file = 'G:/code/python/realesrgan/TimeToDiscoTurboMy_artists(33)_0.png'\n",
    "ratio = 2\n",
    "overshoot = 0.1"
   ]
  },
  {
   "cell_type": "code",
   "execution_count": 2,
   "id": "1a0585fe",
   "metadata": {
    "ExecuteTime": {
     "end_time": "2022-04-09T09:41:46.544675Z",
     "start_time": "2022-04-09T09:41:46.532676Z"
    }
   },
   "outputs": [],
   "source": [
    "#make divisible by 64 for diffusion model\n",
    "def make64(x):\n",
    "    return (x//64)*64\n",
    "\n",
    "def makeCrops(file, ratio, overshoot):\n",
    "    img = PIL.Image.open(file)\n",
    "    img = img.resize(i*ratio for i in img.size)\n",
    "    img = np.array(img)\n",
    "\n",
    "    crops = []\n",
    "\n",
    "    x_step = img.shape[0]//ratio\n",
    "    y_step = img.shape[1]//ratio\n",
    "    overshoot_x = int(overshoot*x_step)\n",
    "    overshoot_y = int(overshoot*y_step)\n",
    "\n",
    "\n",
    "    for x in range(ratio):\n",
    "        for y in range(ratio):\n",
    "            x1 = max(0,make64(x*x_step-overshoot_x))\n",
    "            y1 = max(0,make64(y*y_step-overshoot_x))\n",
    "            x2 = min(make64((x+1)*x_step+overshoot_y), img.shape[0])\n",
    "            y2 = min(make64((y+1)*y_step+overshoot_y), img.shape[1])\n",
    "            crops.append((x1,x2,y1,y2))\n",
    "    \n",
    "    for i, crop in enumerate(crops):\n",
    "    (x1,x2,y1,y2) = crop\n",
    "    im = img[x1:x2,y1:y2,:]\n",
    "    PIL.Image.fromarray(im).save(file[:-4]+f'_{i}_ov{overshoot}.png')"
   ]
  },
  {
   "cell_type": "code",
   "execution_count": 3,
   "id": "32dc68d5",
   "metadata": {
    "ExecuteTime": {
     "end_time": "2022-04-09T09:41:47.604728Z",
     "start_time": "2022-04-09T09:41:46.913448Z"
    }
   },
   "outputs": [],
   "source": []
  },
  {
   "cell_type": "code",
   "execution_count": null,
   "id": "41c31ce5",
   "metadata": {},
   "outputs": [],
   "source": []
  }
 ],
 "metadata": {
  "interpreter": {
   "hash": "89e849baadc1874a4c781c6b5ee5a16f08c9e73240de99fcee4aa7dd52d10233"
  },
  "kernelspec": {
   "display_name": "Python 3 (ipykernel)",
   "language": "python",
   "name": "python3"
  },
  "language_info": {
   "codemirror_mode": {
    "name": "ipython",
    "version": 3
   },
   "file_extension": ".py",
   "mimetype": "text/x-python",
   "name": "python",
   "nbconvert_exporter": "python",
   "pygments_lexer": "ipython3",
   "version": "3.7.4"
  },
  "toc": {
   "base_numbering": 1,
   "nav_menu": {},
   "number_sections": true,
   "sideBar": true,
   "skip_h1_title": false,
   "title_cell": "Table of Contents",
   "title_sidebar": "Contents",
   "toc_cell": false,
   "toc_position": {},
   "toc_section_display": true,
   "toc_window_display": false
  },
  "varInspector": {
   "cols": {
    "lenName": 16,
    "lenType": 16,
    "lenVar": 40
   },
   "kernels_config": {
    "python": {
     "delete_cmd_postfix": "",
     "delete_cmd_prefix": "del ",
     "library": "var_list.py",
     "varRefreshCmd": "print(var_dic_list())"
    },
    "r": {
     "delete_cmd_postfix": ") ",
     "delete_cmd_prefix": "rm(",
     "library": "var_list.r",
     "varRefreshCmd": "cat(var_dic_list()) "
    }
   },
   "types_to_exclude": [
    "module",
    "function",
    "builtin_function_or_method",
    "instance",
    "_Feature"
   ],
   "window_display": false
  }
 },
 "nbformat": 4,
 "nbformat_minor": 5
}
